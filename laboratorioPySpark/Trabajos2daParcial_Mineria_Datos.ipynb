{
  "nbformat": 4,
  "nbformat_minor": 0,
  "metadata": {
    "colab": {
      "name": "Trabajos2daParcial_Mineria_Datos.ipynb",
      "provenance": []
    },
    "kernelspec": {
      "name": "python3",
      "display_name": "Python 3"
    },
    "language_info": {
      "name": "python"
    }
  },
  "cells": [
    {
      "cell_type": "markdown",
      "source": [
        "\n",
        "\n",
        "> **NOMBRES Y APELLIDOS**: ALEX HELDER HUANCARA CCOLQQUE \\\\\n",
        "> **DOCENTE**: CARLOS FERNANDO MONTOYA CUBAS \\\\\n",
        "> **ASIGNATURA**: MINERÍA DE DATOS\n",
        "\n"
      ],
      "metadata": {
        "id": "a72vV7ii-B9L"
      }
    },
    {
      "cell_type": "markdown",
      "source": [
        "Instalacion de pySpark en google Colab"
      ],
      "metadata": {
        "id": "exAUqvpi-YCR"
      }
    },
    {
      "cell_type": "code",
      "execution_count": 3,
      "metadata": {
        "colab": {
          "base_uri": "https://localhost:8080/"
        },
        "id": "vpt8GI_G1jw7",
        "outputId": "cb1d8375-5dea-43e5-f435-547038daf4c8"
      },
      "outputs": [
        {
          "output_type": "stream",
          "name": "stdout",
          "text": [
            "Requirement already satisfied: pyspark in /usr/local/lib/python3.7/dist-packages (3.2.0)\n",
            "Requirement already satisfied: py4j==0.10.9.2 in /usr/local/lib/python3.7/dist-packages (from pyspark) (0.10.9.2)\n"
          ]
        }
      ],
      "source": [
        "!pip install pyspark\n",
        "from pyspark import SparkContext\n",
        "sc = SparkContext()"
      ]
    },
    {
      "cell_type": "markdown",
      "source": [
        "Datos con los cuales trabajaremos"
      ],
      "metadata": {
        "id": "Xx3s0BRg9lt9"
      }
    },
    {
      "cell_type": "code",
      "source": [
        "nums1 = [1,2,3,4,5,6,7,8, 9, 10]\n",
        "nums2 = [11,12,13,14,15,16,17,18,19,20]\n",
        "p = 2\n",
        "tupleNums = list(zip( nums1, nums2))"
      ],
      "metadata": {
        "id": "sqEXeYxw3xGp"
      },
      "execution_count": 4,
      "outputs": []
    },
    {
      "cell_type": "markdown",
      "source": [
        "> 1. SIMILITUD DE COSENOS"
      ],
      "metadata": {
        "id": "McjkjjVn33en"
      }
    },
    {
      "cell_type": "code",
      "source": [
        "# funcion para aplicar en map\n",
        "def prod_interno(tupla):\n",
        "  return tupla[0]*tupla[1]\n",
        "\n",
        "# declaracion de la paralelizacion\n",
        "tuplesRDD = sc.parallelize(tupleNums,1)\n",
        "nums1RDD = sc.parallelize(nums1,1)\n",
        "nums2RDD = sc.parallelize(nums2,1)\n",
        "\n",
        "# mapeamos los valores los 3 vectores\n",
        "tuplesRDD = tuplesRDD.map(lambda x: prod_interno(x)).sum()\n",
        "nums1RDD = nums1RDD.map(lambda x:x**2).sum()\n",
        "nums2RDD= nums2RDD.map(lambda x:x**2).sum()\n",
        "\n",
        "# hallar resultados\n",
        "result = (tuplesRDD) / ( nums1RDD**(1/2) * nums2RDD**(1/2) )\n",
        "\n",
        "# mostrar resultados\n",
        "result"
      ],
      "metadata": {
        "colab": {
          "base_uri": "https://localhost:8080/"
        },
        "id": "Mr9BoFRE32qn",
        "outputId": "4aeef9ae-461f-41fe-e642-daf266751299"
      },
      "execution_count": 5,
      "outputs": [
        {
          "output_type": "execute_result",
          "data": {
            "text/plain": [
              "0.9559122994454571"
            ]
          },
          "metadata": {},
          "execution_count": 5
        }
      ]
    },
    {
      "cell_type": "markdown",
      "source": [
        " >  2. DISTANCIA DE MINKOWSKI"
      ],
      "metadata": {
        "id": "yFwL51_24ILr"
      }
    },
    {
      "cell_type": "code",
      "source": [
        "# funcion para aplicar en map\n",
        "def rest(tupla,p):\n",
        "  return abs(tupla[0]-tupla[1])**p\n",
        "\n",
        "# declaracion de la paralelizacion\n",
        "tuples1RDD = sc.parallelize(tupleNums,1)\n",
        "tuples1RDD = tuples1RDD.map(lambda x: rest(x,p))\n",
        "tuples1RDD = tuples1RDD.sum()\n",
        "#hallando el resultado\n",
        "resultado = tuples1RDD ** (1/p)\n",
        "#mostrar resultado\n",
        "resultado"
      ],
      "metadata": {
        "colab": {
          "base_uri": "https://localhost:8080/"
        },
        "id": "B-JoZkGd4HyV",
        "outputId": "4308de98-5c97-4e7f-dae0-ee21a1e5a616"
      },
      "execution_count": 6,
      "outputs": [
        {
          "output_type": "execute_result",
          "data": {
            "text/plain": [
              "31.622776601683793"
            ]
          },
          "metadata": {},
          "execution_count": 6
        }
      ]
    },
    {
      "cell_type": "markdown",
      "source": [
        ">  3. DISTANCIA DE JACCARD"
      ],
      "metadata": {
        "id": "i6nyuf6v49Lk"
      }
    },
    {
      "cell_type": "code",
      "source": [
        "#Creamos el RDD\n",
        "jaccRDD = sc.parallelize(tupleNums)\n",
        "\n",
        "#Creamos una varieble con la suma de los productos \n",
        "sumProdRDD = jaccRDD.map(lambda x: x[0] * x[1]).sum()\n",
        "# aplciamos la funcion map\n",
        "sumRDD = jaccRDD.map(lambda x: 1 if (x[0] == 1 or x[1] == 1) else 0 ).sum()\n",
        "#Dividimos ambas variables y este resultado le restamos a 1\n",
        "jaccardRDD = 1 - (sumProdRDD / sumRDD)\n",
        "\n",
        "# mostrar los resultados\n",
        "jaccardRDD"
      ],
      "metadata": {
        "colab": {
          "base_uri": "https://localhost:8080/"
        },
        "id": "aK9WlkCW5GcK",
        "outputId": "10526132-9b05-4f8b-867f-66620f14370e"
      },
      "execution_count": 7,
      "outputs": [
        {
          "output_type": "execute_result",
          "data": {
            "text/plain": [
              "-934.0"
            ]
          },
          "metadata": {},
          "execution_count": 7
        }
      ]
    },
    {
      "cell_type": "markdown",
      "source": [
        ">  4. NORMALIZACION"
      ],
      "metadata": {
        "id": "we_fps6m6R7w"
      }
    },
    {
      "cell_type": "code",
      "source": [
        "print(\"Nums1 : \", nums1)\n",
        "#Creamos el RDD\n",
        "nums1RDD = sc.parallelize(nums1)\n",
        "\n",
        "normaRDD = (nums1RDD.map(lambda x: x**2).sum()) ** (1/2)\n",
        "# divide a todos los datos del RDD iinicial\n",
        "normalizationRDD = nums1RDD.map(lambda x: x/normaRDD)\n",
        "\n",
        "# mostar resultados\n",
        "print(\"Nums1 normalizado: \", normalizationRDD.collect())"
      ],
      "metadata": {
        "colab": {
          "base_uri": "https://localhost:8080/"
        },
        "id": "bBYkyVAl6PyU",
        "outputId": "f44ee8e3-dfb0-49a4-caa5-67e39c82bf57"
      },
      "execution_count": 8,
      "outputs": [
        {
          "output_type": "stream",
          "name": "stdout",
          "text": [
            "Nums1 :  [1, 2, 3, 4, 5, 6, 7, 8, 9, 10]\n",
            "Nums1 normalizado:  [0.050964719143762556, 0.10192943828752511, 0.15289415743128767, 0.20385887657505022, 0.2548235957188128, 0.30578831486257535, 0.3567530340063379, 0.40771775315010045, 0.458682472293863, 0.5096471914376256]\n"
          ]
        }
      ]
    },
    {
      "cell_type": "markdown",
      "source": [
        "> 5. Escalonamiento"
      ],
      "metadata": {
        "id": "1vJkWwcK7fBn"
      }
    },
    {
      "cell_type": "code",
      "source": [
        "print(\"Nums2: \", nums2)\n",
        "#Creamos el RDD\n",
        "nums2RDD = sc.parallelize(nums2)\n",
        "# hallar el valor maximo\n",
        "maxRDD = nums2RDD.max()\n",
        "# hallar el valor minimo\n",
        "minRDD = nums2RDD.min()\n",
        "# hallar el escalonamiento\n",
        "scaleRDD = nums2RDD.map(lambda x: (x - minRDD)/(maxRDD - minRDD))\n",
        "\n",
        "# mostrar resultdos\n",
        "print(\"nums2 con scalonamiento: \", scaleRDD.collect())"
      ],
      "metadata": {
        "colab": {
          "base_uri": "https://localhost:8080/"
        },
        "id": "oY8AyKOE7ioP",
        "outputId": "99096734-5e57-4395-9fc3-38ea7cca9513"
      },
      "execution_count": 9,
      "outputs": [
        {
          "output_type": "stream",
          "name": "stdout",
          "text": [
            "Nums2:  [11, 12, 13, 14, 15, 16, 17, 18, 19, 20]\n",
            "nums2 con scalonamiento:  [0.0, 0.1111111111111111, 0.2222222222222222, 0.3333333333333333, 0.4444444444444444, 0.5555555555555556, 0.6666666666666666, 0.7777777777777778, 0.8888888888888888, 1.0]\n"
          ]
        }
      ]
    }
  ]
}