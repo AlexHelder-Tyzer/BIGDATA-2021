{
 "cells": [
  {
   "cell_type": "markdown",
   "id": "009dfd5a",
   "metadata": {},
   "source": [
    "NOMBRES Y APELLIDOS: ALEX HELDER HUANCARA CCOLQQUE"
   ]
  },
  {
   "cell_type": "code",
   "execution_count": 23,
   "id": "bb4b66f4",
   "metadata": {},
   "outputs": [],
   "source": [
    "-- Creamos una funcion para hallar el mcm de una lista\n",
    "lcmLista :: Integral a => [a] -> a\n",
    "lcmLista [] = 1\n",
    "lcmLista (x:xs) = foldr lcm 1 xs"
   ]
  },
  {
   "cell_type": "code",
   "execution_count": 24,
   "id": "a3fee215",
   "metadata": {},
   "outputs": [],
   "source": [
    "mediaDivN :: Integer -> Integer -> Double\n",
    "mediaDivN d n = fromIntegral primero * fromIntegral (n+1)/2 -- Hallamos la media\n",
    "    where\n",
    "        primero = lcmLista [1..d] -- calculamos el mcm de una lista que será el primer valor"
   ]
  },
  {
   "cell_type": "code",
   "execution_count": 22,
   "id": "55781a3f",
   "metadata": {},
   "outputs": [
    {
     "data": {
      "text/plain": [
       "5.0"
      ]
     },
     "metadata": {},
     "output_type": "display_data"
    },
    {
     "data": {
      "text/plain": [
       "15.0"
      ]
     },
     "metadata": {},
     "output_type": "display_data"
    }
   ],
   "source": [
    "mediaDivN 2 4\n",
    "mediaDivN 3 4"
   ]
  }
 ],
 "metadata": {
  "kernelspec": {
   "display_name": "Haskell",
   "language": "haskell",
   "name": "haskell"
  },
  "language_info": {
   "codemirror_mode": "ihaskell",
   "file_extension": ".hs",
   "mimetype": "text/x-haskell",
   "name": "haskell",
   "pygments_lexer": "Haskell",
   "version": "8.10.7"
  }
 },
 "nbformat": 4,
 "nbformat_minor": 5
}
