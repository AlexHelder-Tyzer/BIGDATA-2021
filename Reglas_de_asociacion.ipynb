{
  "nbformat": 4,
  "nbformat_minor": 0,
  "metadata": {
    "colab": {
      "name": "Reglas_de_asociacion.ipynb",
      "provenance": []
    },
    "kernelspec": {
      "name": "python3",
      "display_name": "Python 3"
    },
    "language_info": {
      "name": "python"
    }
  },
  "cells": [
    {
      "cell_type": "markdown",
      "metadata": {
        "id": "P8Y_cPpmlfdH"
      },
      "source": [
        "nombre: Alex Helder Huancara Ccolqque"
      ]
    },
    {
      "cell_type": "code",
      "metadata": {
        "id": "e2wlAXuAYYME"
      },
      "source": [
        "#Libreias\n",
        "import numpy as np"
      ],
      "execution_count": 1,
      "outputs": []
    },
    {
      "cell_type": "code",
      "metadata": {
        "id": "khJAztQ1ZXO3"
      },
      "source": [
        "# Combinar de a 2 un conjunto de elementos\n",
        "def Combinatoria(elementos):\n",
        "  pares = dict()\n",
        "  contar = 0\n",
        "  tamanio = len(elementos)\n",
        "  for i in range(tamanio):\n",
        "    for j in range(i+1,tamanio):\n",
        "      pares[contar]=set([list(elementos)[i],list(elementos)[j]])\n",
        "      contar = contar + 1\n",
        "  return pares"
      ],
      "execution_count": 3,
      "outputs": []
    },
    {
      "cell_type": "code",
      "metadata": {
        "id": "Wq-zq57qaLZW"
      },
      "source": [
        "\"\"\"\n",
        "Recibe la combinatoria de 2 elementos del conjunto para proceder a comprar el conjunto con otros conjunto sus elemento menos el ultimo\n",
        "y hallar nuevamente su frecuencia hasta que no cumpla que debe como minimo min_support\n",
        "\"\"\"\n",
        "def Comparacion_combinatoria2(Combinatoria2,Canciones,min_support):\n",
        "  NuevaFrecuencia=dict()\n",
        "  for i in Combinatoria2:\n",
        "    NuevaFrecuencia[i]=0\n",
        "  for i in Combinatoria2:\n",
        "    for j in Canciones:\n",
        "      if (Combinatoria2[i]<= j):\n",
        "        NuevaFrecuencia[i]+=1\n",
        "  frecuencias2=list(NuevaFrecuencia.values())\n",
        "  frecuencias2.sort()\n",
        "  Nuevo_itemsets_frequent=[]\n",
        "  for i in NuevaFrecuencia:\n",
        "    if NuevaFrecuencia[i]>min_support:\n",
        "      Nuevo_itemsets_frequent.append(list(combinacion_2[i]))\n",
        "  Nuevo_itemsets_frequent.sort()"
      ],
      "execution_count": 4,
      "outputs": []
    },
    {
      "cell_type": "code",
      "metadata": {
        "id": "2bBQ8qQbb7sv"
      },
      "source": [
        "\"\"\"\n",
        "Recibe la esctructura de datos que contiene a las playlists y retorna una estructura con los itemsets fre-\n",
        "cuentes, bajo un umbral mínimo de confianza.\n",
        "\"\"\"\n",
        "def obtener_itemset_frecuentes(playlists, min_support):\n",
        "  Canciones=set()\n",
        "  playlist=[]\n",
        "  for i in playlists:#recoorrer el playlists para obtener un conjunto de canciones(conjunto para que no se repita las canciones en todo el playlists) \n",
        "    Canciones|=set(playlists[i])#Union de conjuntos para cada subconjunto de playlists y alamcenarlo en Canciones\n",
        "    playlist.append(set(playlists[i]))#Agregar un subconjunto de playlists en el arreglo playlist\n",
        "  itemset = dict()\n",
        "  for i in Canciones:#iniciamos en el diccionario que todas las canciones empiezan con una frecuencia de 0\n",
        "    itemset[i] = 0 #Cada itemset tiene una clave\n",
        "  for i in range(len(playlist)):#Obtener frecuencia de cada playlist\n",
        "    item=playlist[i]\n",
        "    for j in item:#Sumamos en 1 la canciones que se encuentran en el diccionario itemset\n",
        "      itemset[j] += 1\n",
        "  frecuenciasItemSets=list(itemset.values())#listamos las frecuencias de playlist\n",
        "  frecuenciasItemSets.sort()\n",
        "\n",
        "  itemsets_frecuentes=set()\n",
        "  for i in itemset:\n",
        "    if(itemset[i]>min_support):#verificamos que sea mayor que min_support\n",
        "       itemsets_frecuentes.add(i)#agregamos a conjunto itemsets_frecuentes\n",
        "\n",
        "  # Generamos los itemsets frecuentes\n",
        "  Combinatoria2=Combinatoria(itemsets_frecuentes)#Hacemos combinatoria entre 2 canciones\n",
        "  print(Combinatoria2)\n",
        "\n",
        "  return 1;"
      ],
      "execution_count": 14,
      "outputs": []
    },
    {
      "cell_type": "code",
      "metadata": {
        "id": "kNmyFY7wb8pG"
      },
      "source": [
        "\"\"\"\n",
        "Recibe los itemsets frecuentes generados por la función anterior y retorna las\n",
        "reglas de asociación. Se le puede entregar umbrales de confianza o lift para las\n",
        "reglas que se retornarán. Por ejemplo, si se llama esta función con los ar- gumentos\n",
        "confidence = 0.5 y lift = 1.2, se espera que se retornen aquellas reglas que\n",
        "cumplan con una confianza ≥ 0.5 y un lift ≥ 1.2.\n",
        "\"\"\"\n",
        "def generate_association_rules(frequent_itemsets, confidence = 0, lift =0):\n",
        "  print(\"En Proceso\")\n",
        "  return 0;"
      ],
      "execution_count": 15,
      "outputs": []
    },
    {
      "cell_type": "code",
      "metadata": {
        "colab": {
          "base_uri": "https://localhost:8080/"
        },
        "id": "nT8-v_IMcBYW",
        "outputId": "c0f1c229-1ff6-4184-9431-4db8c6eeb3ec"
      },
      "source": [
        "#cargar datos de spotify\n",
        "Data = np.load('spotify.npy',allow_pickle=True)\n",
        "#Convertir nuestra Data en una lista.\n",
        "playlists=Data.tolist()\n",
        "#Obtener una estructura con los itemsets frecuentes,debajo un umbral minimo de 140\n",
        "playlist_frecuentes=obtener_itemset_frecuentes(playlists, 140)\n",
        "association_rules=generate_association_rules(playlist_frecuentes, confidence = 0.5, lift =0.2)\n",
        "print(association_rules)"
      ],
      "execution_count": 16,
      "outputs": [
        {
          "output_type": "stream",
          "name": "stderr",
          "text": [
            "IOPub data rate exceeded.\n",
            "The notebook server will temporarily stop sending output\n",
            "to the client in order to avoid crashing it.\n",
            "To change this limit, set the config variable\n",
            "`--NotebookApp.iopub_data_rate_limit`.\n",
            "\n",
            "Current values:\n",
            "NotebookApp.iopub_data_rate_limit=1000000.0 (bytes/sec)\n",
            "NotebookApp.rate_limit_window=3.0 (secs)\n",
            "\n"
          ]
        }
      ]
    }
  ]
}